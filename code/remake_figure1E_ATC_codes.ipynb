{
  "cells": [
    {
      "cell_type": "code",
      "execution_count": null,
      "id": "49ceb228",
      "metadata": {
        "id": "49ceb228"
      },
      "outputs": [],
      "source": [
        "import pickle,os,csv,sys, math\n",
        "import pandas as pd\n",
        "import matplotlib\n",
        "matplotlib.use(\"AGG\")\n",
        "import matplotlib.pyplot as plt\n",
        "import seaborn as sns\n",
        "from collections import defaultdict\n",
        "from matplotlib.colors import LinearSegmentedColormap\n",
        "import numpy as np"
      ]
    },
    {
      "cell_type": "code",
      "execution_count": null,
      "id": "3a38580d",
      "metadata": {
        "id": "3a38580d"
      },
      "outputs": [],
      "source": [
        "# get ATC codes\n",
        "dbdf = pd.read_excel('Drugbank050120.xlsx')\n",
        "d2atc = defaultdict(set)\n",
        "for (d,a_str) in zip(dbdf.drugbank_id,dbdf.atc_codes):\n",
        "        #print((d,a_str))\n",
        "        #print(type(a_str))\n",
        "        if type(a_str) == type(1.0):\n",
        "                continue\n",
        "        if '|' in a_str:\n",
        "                atc_codes = a_str.split('|')\n",
        "        else:\n",
        "                atc_codes = [a_str]\n",
        "        # print(atc_codes)\n",
        "        for a in atc_codes:\n",
        "                keep_a = a[0]\n",
        "                d2atc[d].add(keep_a)"
      ]
    },
    {
      "cell_type": "code",
      "execution_count": null,
      "id": "0affc50f",
      "metadata": {
        "id": "0affc50f"
      },
      "outputs": [],
      "source": [
        "# load results of PathFX\n",
        "f = 'Supplemental File 1_ SCZ_PSCZ_MDD_RD_UD_BPDv3.xlsx'\n",
        "rdf = pd.read_excel(f)\n",
        "r_dbids = set(rdf.DrugBankID)"
      ]
    },
    {
      "cell_type": "code",
      "execution_count": null,
      "id": "d99b46eb",
      "metadata": {
        "id": "d99b46eb",
        "outputId": "f71481d0-3840-4782-fdf6-c0e9573c6f6f"
      },
      "outputs": [
        {
          "name": "stdout",
          "output_type": "stream",
          "text": [
            "['A', 'B', 'C', 'D', 'G', 'H', 'J', 'L', 'M', 'N', 'P', 'R', 'S', 'V']\n"
          ]
        }
      ],
      "source": [
        "# map ATC codes to colors, drugs to colors, then make into dataframe\n",
        "pfx_atc = dict([x for x in d2atc.items() if x[0] in r_dbids])\n",
        "all_atc = sorted(set([x for aset in pfx_atc.values() for x in aset]))\n",
        "print(all_atc)\n",
        "atc_colors =['red','coral','peru','darkorange','gold','yellowgreen','green','lightseagreen','dodgerblue','slateblue','mediumorchid','violet','hotpink','lightpink']\n",
        "atc_to_color = dict(zip(all_atc,atc_colors))\n",
        "drug_to_color = dict([(d,atc_to_color[ac]) if len(ac_set)==1 else (d,'black') for (d,ac_set) in pfx_atc.items() for ac in ac_set]) # mixed class drugs in black\n",
        "(dnames,dcolors) = zip(*[(k,v) for (k,v) in drug_to_color.items()])\n",
        "rc_df = pd.DataFrame.from_dict({'Drugs': dnames,'ATC Codes': dcolors})\n",
        "rc_df = rc_df.set_index('Drugs')"
      ]
    },
    {
      "cell_type": "code",
      "execution_count": null,
      "id": "f072c6f2",
      "metadata": {
        "id": "f072c6f2"
      },
      "outputs": [],
      "source": [
        "# bar chart of all ATC codes\n",
        "atc_count = defaultdict(int)\n",
        "for (d,aset) in pfx_atc.items():\n",
        "        for acode in aset:\n",
        "                atc_count[acode]+=1"
      ]
    },
    {
      "cell_type": "code",
      "execution_count": null,
      "id": "3797bec1",
      "metadata": {
        "id": "3797bec1"
      },
      "outputs": [],
      "source": [
        "# plot\n",
        "(alabels,acounts) = zip(*sorted(atc_count.items()))\n",
        "fig,ax = plt.subplots()\n",
        "y_pos = np.arange(len(acounts))\n",
        "bar_colors = [c for (a,c) in sorted(atc_to_color.items())]\n",
        "hbars = ax.barh(y_pos,acounts,align='center',color=bar_colors)\n",
        "ax.set_yticks(y_pos)\n",
        "ax.set_yticklabels(alabels, fontsize=14)\n",
        "# old school way to force bar labels\n",
        "for (yp,ac) in zip(y_pos,acounts):\n",
        "        n=ax.text(ac+5, yp, str(ac), fontsize=14)\n",
        "ax.set_title('Number of active ingredients \\nper level-1 ATC code', fontsize=14)\n",
        "ax.set_ylim([-1,14])\n",
        "ax.get_xaxis().set_visible(False)\n",
        "ax.spines['top'].set_visible(False)\n",
        "ax.spines['right'].set_visible(False)\n",
        "ax.spines['bottom'].set_visible(False)\n",
        "ax.spines['left'].set_visible(False)\n",
        "ax.invert_yaxis()  # labels read top-to-bottom\n",
        "plt.savefig('Num_active_ingred_level1_atc_codes.png',format='png')"
      ]
    },
    {
      "cell_type": "code",
      "execution_count": null,
      "id": "b71f674b",
      "metadata": {
        "id": "b71f674b"
      },
      "outputs": [],
      "source": []
    }
  ],
  "metadata": {
    "kernelspec": {
      "display_name": "Python 3 (ipykernel)",
      "language": "python",
      "name": "python3"
    },
    "language_info": {
      "codemirror_mode": {
        "name": "ipython",
        "version": 3
      },
      "file_extension": ".py",
      "mimetype": "text/x-python",
      "name": "python",
      "nbconvert_exporter": "python",
      "pygments_lexer": "ipython3",
      "version": "3.9.7"
    },
    "colab": {
      "provenance": []
    }
  },
  "nbformat": 4,
  "nbformat_minor": 5
}